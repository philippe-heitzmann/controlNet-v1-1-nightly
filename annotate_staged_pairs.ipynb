{
 "cells": [
  {
   "cell_type": "code",
   "execution_count": 22,
   "id": "f2cdf7c3-1be7-41e5-86f7-229b0ed7791b",
   "metadata": {},
   "outputs": [],
   "source": [
    "from gradio_annotator_vsai import hed, oneformer_ade20k, uniformer"
   ]
  },
  {
   "cell_type": "code",
   "execution_count": 26,
   "id": "eed1840f-6b9c-42c7-a31e-dd12074deb0d",
   "metadata": {},
   "outputs": [],
   "source": []
  },
  {
   "cell_type": "code",
   "execution_count": 28,
   "id": "7cd4b80a-4421-4712-840a-9b3a3c429230",
   "metadata": {},
   "outputs": [
    {
     "name": "stdout",
     "output_type": "stream",
     "text": [
      "0.08336424827575684\n"
     ]
    },
    {
     "name": "stderr",
     "output_type": "stream",
     "text": [
      "/home/ubuntu/ControlNet-v1-1-nightly/annotator/uniformer/mmseg/models/segmentors/base.py:271: UserWarning: show==False and out_file is not specified, only result image will be returned\n",
      "  warnings.warn('show==False and out_file is not specified, only '\n"
     ]
    },
    {
     "data": {
      "image/png": "[encoded data removed]",
      "text/plain": [
       "<PIL.Image.Image image mode=RGB size=512x512>"
      ]
     },
     "execution_count": 28,
     "metadata": {},
     "output_type": "execute_result"
    }
   ],
   "source": [
    "from PIL import Image\n",
    "import numpy as np\n",
    "image = Image.open(\"./image_1_B.jpg\")\n",
    "start = time.time()\n",
    "res = uniformer(np.array(image.resize((512,512))), 512)\n",
    "print(time.time() - start)\n",
    "Image.fromarray(res[0])"
   ]
  },
  {
   "cell_type": "code",
   "execution_count": 34,
   "id": "9d408691-a4d2-4d37-8846-03e41e83cc4d",
   "metadata": {},
   "outputs": [],
   "source": [
    "import os\n",
    "import sys\n",
    "import cv2\n",
    "import numpy as np\n",
    "import time\n",
    "from tqdm import tqdm\n",
    "from concurrent.futures import ThreadPoolExecutor\n",
    "from contextlib import contextmanager\n",
    "\n",
    "@contextmanager\n",
    "def suppress_output():\n",
    "    with open(os.devnull, 'w') as devnull:\n",
    "        old_stdout = sys.stdout\n",
    "        old_stderr = sys.stderr\n",
    "        sys.stdout = devnull\n",
    "        sys.stderr = devnull\n",
    "        try:  \n",
    "            yield\n",
    "        finally:\n",
    "            sys.stdout = old_stdout\n",
    "            sys.stderr = old_stderr\n",
    "\n",
    "def load_image(image_path):\n",
    "    return cv2.imread(image_path)\n",
    "\n",
    "def segment_folder(in_folder, out_folder, batch_size=500):\n",
    "    if not os.path.exists(out_folder):\n",
    "        os.makedirs(out_folder)\n",
    "\n",
    "    image_files = [f for f in os.listdir(in_folder) if os.path.isfile(os.path.join(in_folder, f))]\n",
    "\n",
    "    with ThreadPoolExecutor() as executor:\n",
    "        for i in tqdm(range(0, len(image_files), batch_size), desc=\"Processing images\"):\n",
    "            batch_files = image_files[i:i + batch_size]\n",
    "            batch_image_paths = [os.path.join(in_folder, f) for f in batch_files]\n",
    "            batch_output_paths = [os.path.join(out_folder, f) for f in batch_files]\n",
    "\n",
    "            # Load images in parallel\n",
    "            start = time.time()\n",
    "            batch_images = list(executor.map(load_image, batch_image_paths))\n",
    "            print(f'loaded {len(batch_images)} in {time.time() - start:.2f}')\n",
    "\n",
    "            # Process images sequentially\n",
    "            for idx, image in enumerate(batch_images):\n",
    "                output_path = batch_output_paths[idx]\n",
    "\n",
    "                if not os.path.exists(output_path):\n",
    "                    # start = time.time()\n",
    "                    try:\n",
    "                        res = uniformer(image, 512)\n",
    "                        # print(f'generated in {time.time() - start:.2f}s')\n",
    "\n",
    "                        segmented_image = cv2.cvtColor(res[0], cv2.COLOR_BGR2RGB)\n",
    "                        cv2.imwrite(output_path, segmented_image)\n",
    "                    except Exception as e:\n",
    "                        print(f'skipping {output_path}')\n",
    "                        pass\n",
    "                    \n",
    "\n",
    "# Example usage:\n",
    "# segment_folder(\"./input_folder\", \"./output_folder\")\n"
   ]
  },
  {
   "cell_type": "code",
   "execution_count": null,
   "id": "e4ce13b0-981f-4c1a-8da1-6c35511bbadc",
   "metadata": {},
   "outputs": [
    {
     "name": "stderr",
     "output_type": "stream",
     "text": [
      "Processing images:   1%|          | 1/96 [00:01<02:31,  1.60s/it]"
     ]
    },
    {
     "name": "stdout",
     "output_type": "stream",
     "text": [
      "loaded 500 in 1.60\n"
     ]
    },
    {
     "name": "stderr",
     "output_type": "stream",
     "text": [
      "Processing images:   2%|▏         | 2/96 [00:03<02:59,  1.91s/it]"
     ]
    },
    {
     "name": "stdout",
     "output_type": "stream",
     "text": [
      "loaded 500 in 2.12\n"
     ]
    },
    {
     "name": "stderr",
     "output_type": "stream",
     "text": [
      "Processing images:   3%|▎         | 3/96 [00:05<02:43,  1.75s/it]"
     ]
    },
    {
     "name": "stdout",
     "output_type": "stream",
     "text": [
      "loaded 500 in 1.57\n"
     ]
    },
    {
     "name": "stderr",
     "output_type": "stream",
     "text": [
      "Processing images:   4%|▍         | 4/96 [00:07<02:41,  1.75s/it]"
     ]
    },
    {
     "name": "stdout",
     "output_type": "stream",
     "text": [
      "loaded 500 in 1.75\n",
      "loaded 500 in 1.71\n",
      "skipping /home/ubuntu/staged_pairs/staged_rooms_seg/HoangDuc3sortiert_.ds_store\n"
     ]
    },
    {
     "name": "stderr",
     "output_type": "stream",
     "text": [
      "Processing images:   5%|▌         | 5/96 [00:22<10:13,  6.74s/it]"
     ]
    },
    {
     "name": "stdout",
     "output_type": "stream",
     "text": [
      "loaded 500 in 1.58\n"
     ]
    },
    {
     "name": "stderr",
     "output_type": "stream",
     "text": [
      "Processing images:   6%|▋         | 6/96 [01:10<31:19, 20.88s/it]"
     ]
    },
    {
     "name": "stdout",
     "output_type": "stream",
     "text": [
      "loaded 500 in 1.41\n"
     ]
    },
    {
     "name": "stderr",
     "output_type": "stream",
     "text": [
      "Processing images:   7%|▋         | 7/96 [01:58<44:02, 29.69s/it]"
     ]
    },
    {
     "name": "stdout",
     "output_type": "stream",
     "text": [
      "loaded 500 in 1.52\n"
     ]
    },
    {
     "name": "stderr",
     "output_type": "stream",
     "text": [
      "Processing images:   8%|▊         | 8/96 [02:46<52:00, 35.46s/it]"
     ]
    },
    {
     "name": "stdout",
     "output_type": "stream",
     "text": [
      "loaded 500 in 1.31\n"
     ]
    },
    {
     "name": "stderr",
     "output_type": "stream",
     "text": [
      "Processing images:   9%|▉         | 9/96 [03:34<56:52, 39.23s/it]"
     ]
    },
    {
     "name": "stdout",
     "output_type": "stream",
     "text": [
      "loaded 500 in 1.40\n"
     ]
    },
    {
     "name": "stderr",
     "output_type": "stream",
     "text": [
      "Processing images:  10%|█         | 10/96 [04:24<1:01:12, 42.70s/it]"
     ]
    },
    {
     "name": "stdout",
     "output_type": "stream",
     "text": [
      "loaded 500 in 1.39\n"
     ]
    },
    {
     "name": "stderr",
     "output_type": "stream",
     "text": [
      "Processing images:  11%|█▏        | 11/96 [05:12<1:02:47, 44.32s/it]"
     ]
    },
    {
     "name": "stdout",
     "output_type": "stream",
     "text": [
      "loaded 500 in 2.07\n"
     ]
    }
   ],
   "source": [
    "segment_folder(\"/home/ubuntu/staged_pairs/staged_rooms/\", \"/home/ubuntu/staged_pairs/staged_rooms_seg\")"
   ]
  },
  {
   "cell_type": "code",
   "execution_count": null,
   "id": "756ce244-b898-4e90-8e20-fa31a133e48c",
   "metadata": {},
   "outputs": [],
   "source": [
    "segment_folder(\"/home/ubuntu/staged_pairs/empty_rooms/\", \"/home/ubuntu/staged_pairs/empty_rooms_seg\")"
   ]
  },
  {
   "cell_type": "code",
   "execution_count": null,
   "id": "813e98bd-cef4-4117-941b-54f8b486d96a",
   "metadata": {},
   "outputs": [],
   "source": []
  }
 ],
 "metadata": {
  "kernelspec": {
   "display_name": "control-v11",
   "language": "python",
   "name": "control-v11"
  },
  "language_info": {
   "codemirror_mode": {
    "name": "ipython",
    "version": 3
   },
   "file_extension": ".py",
   "mimetype": "text/x-python",
   "name": "python",
   "nbconvert_exporter": "python",
   "pygments_lexer": "ipython3",
   "version": "3.8.5"
  }
 },
 "nbformat": 4,
 "nbformat_minor": 5
}
